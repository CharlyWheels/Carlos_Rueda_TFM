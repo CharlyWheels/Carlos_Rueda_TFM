{
  "nbformat": 4,
  "nbformat_minor": 0,
  "metadata": {
    "colab": {
      "provenance": [],
      "authorship_tag": "ABX9TyP1ATaUgg0OLecBHbbD5sQS",
      "include_colab_link": true
    },
    "kernelspec": {
      "name": "python3",
      "display_name": "Python 3"
    },
    "language_info": {
      "name": "python"
    }
  },
  "cells": [
    {
      "cell_type": "markdown",
      "metadata": {
        "id": "view-in-github",
        "colab_type": "text"
      },
      "source": [
        "<a href=\"https://colab.research.google.com/github/CharlyWheels/Carlos_Rueda_TFM/blob/colab/epc_ML_standard.ipynb\" target=\"_parent\"><img src=\"https://colab.research.google.com/assets/colab-badge.svg\" alt=\"Open In Colab\"/></a>"
      ]
    },
    {
      "cell_type": "code",
      "execution_count": 8,
      "metadata": {
        "id": "OTF1EEBBb3Wg"
      },
      "outputs": [],
      "source": [
        "import pandas as pd\n",
        "import numpy as np\n",
        "from sklearn.model_selection import train_test_split\n",
        "import matplotlib.pyplot as plt\n",
        "import warnings\n",
        "import seaborn as sns\n",
        "\n",
        "warnings.filterwarnings('ignore')\n",
        "sns.set(color_codes=True)"
      ]
    },
    {
      "cell_type": "code",
      "source": [
        "df = pd.read_csv('/epc.csv', engine='python')\n",
        "df.shape"
      ],
      "metadata": {
        "colab": {
          "base_uri": "https://localhost:8080/"
        },
        "id": "TBuJEXilb7DS",
        "outputId": "2f548c30-ccbe-499e-98e5-26f19f738621"
      },
      "execution_count": 9,
      "outputs": [
        {
          "output_type": "execute_result",
          "data": {
            "text/plain": [
              "(804691, 38)"
            ]
          },
          "metadata": {},
          "execution_count": 9
        }
      ]
    },
    {
      "cell_type": "code",
      "source": [
        "df.drop(['id', 'reference','epc','score', 'antennas', 'rssiValue', 'timeStamp', 'lastModification'], axis=1, inplace=True)\n",
        "df.shape"
      ],
      "metadata": {
        "colab": {
          "base_uri": "https://localhost:8080/"
        },
        "id": "1lXvrLjJc_r_",
        "outputId": "819c4a31-db7d-4739-cfc7-66db1ed3d208"
      },
      "execution_count": 10,
      "outputs": [
        {
          "output_type": "execute_result",
          "data": {
            "text/plain": [
              "(804691, 30)"
            ]
          },
          "metadata": {},
          "execution_count": 10
        }
      ]
    },
    {
      "cell_type": "code",
      "source": [
        "sns.countplot(x=\"desired\", data=df, palette=\"Greens_d\")"
      ],
      "metadata": {
        "colab": {
          "base_uri": "https://localhost:8080/",
          "height": 475
        },
        "id": "bDNfTT3odN33",
        "outputId": "06f8a783-0279-464e-f9e8-78082d4791cc"
      },
      "execution_count": 11,
      "outputs": [
        {
          "output_type": "execute_result",
          "data": {
            "text/plain": [
              "<Axes: xlabel='desired', ylabel='count'>"
            ]
          },
          "metadata": {},
          "execution_count": 11
        },
        {
          "output_type": "display_data",
          "data": {
            "text/plain": [
              "<Figure size 640x480 with 1 Axes>"
            ],
            "image/png": "[encoded data removed]"
          },
          "metadata": {}
        }
      ]
    },
    {
      "cell_type": "code",
      "source": [
        "class_dist = df['desired'].value_counts()\n",
        "\n",
        "print(class_dist)\n",
        "prob_e = class_dist[0]/(class_dist[0]+class_dist[1])\n",
        "prob_p = 1 - prob_e\n",
        "print(prob_e)\n",
        "print(prob_p)"
      ],
      "metadata": {
        "colab": {
          "base_uri": "https://localhost:8080/"
        },
        "id": "kcwRUOVkdPnf",
        "outputId": "55506407-f5e6-455c-e25d-d194c95aec0c"
      },
      "execution_count": 12,
      "outputs": [
        {
          "output_type": "stream",
          "name": "stdout",
          "text": [
            "True     757822\n",
            "False      4731\n",
            "Name: desired, dtype: int64\n",
            "0.9937958410759645\n",
            "0.006204158924035474\n"
          ]
        }
      ]
    },
    {
      "cell_type": "code",
      "source": [
        "from sklearn.utils import resample\n",
        "\n",
        "df_majority = df[df.desired==1]\n",
        "df_minority = df[df.desired==0]\n",
        "\n",
        "df_minority_upsampled = resample(df_minority, replace=True, n_samples=757822, random_state=123)"
      ],
      "metadata": {
        "id": "CvWfSBuFuINs"
      },
      "execution_count": 13,
      "outputs": []
    },
    {
      "cell_type": "code",
      "source": [
        "df_upsampled = pd.concat([df_majority, df_minority_upsampled]) # type: ignore"
      ],
      "metadata": {
        "id": "HtlpsIdBuQHU"
      },
      "execution_count": 14,
      "outputs": []
    },
    {
      "cell_type": "code",
      "source": [
        "print(df_upsampled.columns)"
      ],
      "metadata": {
        "colab": {
          "base_uri": "https://localhost:8080/"
        },
        "id": "0dyzbVt0uke0",
        "outputId": "1077c152-564d-459e-86dc-fff13d4da7c6"
      },
      "execution_count": 15,
      "outputs": [
        {
          "output_type": "stream",
          "name": "stdout",
          "text": [
            "Index(['count', 'maxRssiValue', 'minRssiValue', 'maxTimeStamp', 'minTimeStamp',\n",
            "       'rssiDiff', 'seenDiff', 'antenna1', 'antenna2', 'antenna3', 'antenna4',\n",
            "       'ts_percent0', 'ts_percent1', 'ts_percent2', 'ts_percent3',\n",
            "       'ts_percent4', 'ts_percent5', 'ts_percent6', 'ts_percent7',\n",
            "       'ts_percent8', 'rv_percent0', 'rv_percent1', 'rv_percent2',\n",
            "       'rv_percent3', 'rv_percent4', 'rv_percent5', 'rv_percent6',\n",
            "       'rv_percent7', 'rv_percent8', 'desired'],\n",
            "      dtype='object')\n"
          ]
        }
      ]
    },
    {
      "cell_type": "code",
      "source": [
        "class_dist = df_upsampled['desired'].value_counts()\n",
        "\n",
        "print(class_dist)"
      ],
      "metadata": {
        "colab": {
          "base_uri": "https://localhost:8080/"
        },
        "id": "LTPYRGGuunhq",
        "outputId": "5fa34cf6-47d1-47fa-e2b4-57aa319fc390"
      },
      "execution_count": 16,
      "outputs": [
        {
          "output_type": "stream",
          "name": "stdout",
          "text": [
            "True     757822\n",
            "False    757822\n",
            "Name: desired, dtype: int64\n"
          ]
        }
      ]
    },
    {
      "cell_type": "code",
      "source": [
        "from sklearn.preprocessing import LabelEncoder\n",
        "labelencoder=LabelEncoder()\n",
        "for col in df_upsampled.columns:\n",
        "    df_upsampled[col] = labelencoder.fit_transform(df_upsampled[col])\n",
        "\n",
        "df_upsampled.head()"
      ],
      "metadata": {
        "colab": {
          "base_uri": "https://localhost:8080/",
          "height": 300
        },
        "id": "Cnvh_ctouqyr",
        "outputId": "fbbb4e96-376c-4be7-b119-acb66fb89e9c"
      },
      "execution_count": 17,
      "outputs": [
        {
          "output_type": "execute_result",
          "data": {
            "text/plain": [
              "    count  maxRssiValue  minRssiValue  maxTimeStamp  minTimeStamp  rssiDiff  \\\n",
              "48     46            35            16        114650             0        23   \n",
              "49     46            36            15        111668          1294        25   \n",
              "50     48            35            17        115975          3822        22   \n",
              "51     40            26            11        109472          5671        19   \n",
              "52     43            34            21         93945          7183        17   \n",
              "\n",
              "    seenDiff  antenna1  antenna2  antenna3  ...  rv_percent0  rv_percent1  \\\n",
              "48    192445        12        14        11  ...          173          110   \n",
              "49    186534        12        12        11  ...          167          122   \n",
              "50    189993        14        12        13  ...          177          105   \n",
              "51    180079         7        11        11  ...          137           84   \n",
              "52    158889         8        14        10  ...          210          127   \n",
              "\n",
              "    rv_percent2  rv_percent3  rv_percent4  rv_percent5  rv_percent6  \\\n",
              "48          291          150           48          189          439   \n",
              "49          322          163           50          206          480   \n",
              "50          291          150           46          175          396   \n",
              "51          233          120           38          143          323   \n",
              "52          321          178           54          202          459   \n",
              "\n",
              "    rv_percent7  rv_percent8  desired  \n",
              "48          241          601        1  \n",
              "49          285          709        1  \n",
              "50          252          688        1  \n",
              "51          182          465        1  \n",
              "52          285          709        1  \n",
              "\n",
              "[5 rows x 30 columns]"
            ],
            "text/html": [
              "\n",
              "  <div id=\"df-fafedee5-ac6c-42fe-a6af-3f07cdde7776\">\n",
              "    <div class=\"colab-df-container\">\n",
              "      <div>\n",
              "<style scoped>\n",
              "    .dataframe tbody tr th:only-of-type {\n",
              "        vertical-align: middle;\n",
              "    }\n",
              "\n",
              "    .dataframe tbody tr th {\n",
              "        vertical-align: top;\n",
              "    }\n",
              "\n",
              "    .dataframe thead th {\n",
              "        text-align: right;\n",
              "    }\n",
              "</style>\n",
              "<table border=\"1\" class=\"dataframe\">\n",
              "  <thead>\n",
              "    <tr style=\"text-align: right;\">\n",
              "      <th></th>\n",
              "      <th>count</th>\n",
              "      <th>maxRssiValue</th>\n",
              "      <th>minRssiValue</th>\n",
              "      <th>maxTimeStamp</th>\n",
              "      <th>minTimeStamp</th>\n",
              "      <th>rssiDiff</th>\n",
              "      <th>seenDiff</th>\n",
              "      <th>antenna1</th>\n",
              "      <th>antenna2</th>\n",
              "      <th>antenna3</th>\n",
              "      <th>...</th>\n",
              "      <th>rv_percent0</th>\n",
              "      <th>rv_percent1</th>\n",
              "      <th>rv_percent2</th>\n",
              "      <th>rv_percent3</th>\n",
              "      <th>rv_percent4</th>\n",
              "      <th>rv_percent5</th>\n",
              "      <th>rv_percent6</th>\n",
              "      <th>rv_percent7</th>\n",
              "      <th>rv_percent8</th>\n",
              "      <th>desired</th>\n",
              "    </tr>\n",
              "  </thead>\n",
              "  <tbody>\n",
              "    <tr>\n",
              "      <th>48</th>\n",
              "      <td>46</td>\n",
              "      <td>35</td>\n",
              "      <td>16</td>\n",
              "      <td>114650</td>\n",
              "      <td>0</td>\n",
              "      <td>23</td>\n",
              "      <td>192445</td>\n",
              "      <td>12</td>\n",
              "      <td>14</td>\n",
              "      <td>11</td>\n",
              "      <td>...</td>\n",
              "      <td>173</td>\n",
              "      <td>110</td>\n",
              "      <td>291</td>\n",
              "      <td>150</td>\n",
              "      <td>48</td>\n",
              "      <td>189</td>\n",
              "      <td>439</td>\n",
              "      <td>241</td>\n",
              "      <td>601</td>\n",
              "      <td>1</td>\n",
              "    </tr>\n",
              "    <tr>\n",
              "      <th>49</th>\n",
              "      <td>46</td>\n",
              "      <td>36</td>\n",
              "      <td>15</td>\n",
              "      <td>111668</td>\n",
              "      <td>1294</td>\n",
              "      <td>25</td>\n",
              "      <td>186534</td>\n",
              "      <td>12</td>\n",
              "      <td>12</td>\n",
              "      <td>11</td>\n",
              "      <td>...</td>\n",
              "      <td>167</td>\n",
              "      <td>122</td>\n",
              "      <td>322</td>\n",
              "      <td>163</td>\n",
              "      <td>50</td>\n",
              "      <td>206</td>\n",
              "      <td>480</td>\n",
              "      <td>285</td>\n",
              "      <td>709</td>\n",
              "      <td>1</td>\n",
              "    </tr>\n",
              "    <tr>\n",
              "      <th>50</th>\n",
              "      <td>48</td>\n",
              "      <td>35</td>\n",
              "      <td>17</td>\n",
              "      <td>115975</td>\n",
              "      <td>3822</td>\n",
              "      <td>22</td>\n",
              "      <td>189993</td>\n",
              "      <td>14</td>\n",
              "      <td>12</td>\n",
              "      <td>13</td>\n",
              "      <td>...</td>\n",
              "      <td>177</td>\n",
              "      <td>105</td>\n",
              "      <td>291</td>\n",
              "      <td>150</td>\n",
              "      <td>46</td>\n",
              "      <td>175</td>\n",
              "      <td>396</td>\n",
              "      <td>252</td>\n",
              "      <td>688</td>\n",
              "      <td>1</td>\n",
              "    </tr>\n",
              "    <tr>\n",
              "      <th>51</th>\n",
              "      <td>40</td>\n",
              "      <td>26</td>\n",
              "      <td>11</td>\n",
              "      <td>109472</td>\n",
              "      <td>5671</td>\n",
              "      <td>19</td>\n",
              "      <td>180079</td>\n",
              "      <td>7</td>\n",
              "      <td>11</td>\n",
              "      <td>11</td>\n",
              "      <td>...</td>\n",
              "      <td>137</td>\n",
              "      <td>84</td>\n",
              "      <td>233</td>\n",
              "      <td>120</td>\n",
              "      <td>38</td>\n",
              "      <td>143</td>\n",
              "      <td>323</td>\n",
              "      <td>182</td>\n",
              "      <td>465</td>\n",
              "      <td>1</td>\n",
              "    </tr>\n",
              "    <tr>\n",
              "      <th>52</th>\n",
              "      <td>43</td>\n",
              "      <td>34</td>\n",
              "      <td>21</td>\n",
              "      <td>93945</td>\n",
              "      <td>7183</td>\n",
              "      <td>17</td>\n",
              "      <td>158889</td>\n",
              "      <td>8</td>\n",
              "      <td>14</td>\n",
              "      <td>10</td>\n",
              "      <td>...</td>\n",
              "      <td>210</td>\n",
              "      <td>127</td>\n",
              "      <td>321</td>\n",
              "      <td>178</td>\n",
              "      <td>54</td>\n",
              "      <td>202</td>\n",
              "      <td>459</td>\n",
              "      <td>285</td>\n",
              "      <td>709</td>\n",
              "      <td>1</td>\n",
              "    </tr>\n",
              "  </tbody>\n",
              "</table>\n",
              "<p>5 rows × 30 columns</p>\n",
              "</div>\n",
              "      <button class=\"colab-df-convert\" onclick=\"convertToInteractive('df-fafedee5-ac6c-42fe-a6af-3f07cdde7776')\"\n",
              "              title=\"Convert this dataframe to an interactive table.\"\n",
              "              style=\"display:none;\">\n",
              "        \n",
              "  <svg xmlns=\"http://www.w3.org/2000/svg\" height=\"24px\"viewBox=\"0 0 24 24\"\n",
              "       width=\"24px\">\n",
              "    <path d=\"M0 0h24v24H0V0z\" fill=\"none\"/>\n",
              "    <path d=\"M18.56 5.44l.94 2.06.94-2.06 2.06-.94-2.06-.94-.94-2.06-.94 2.06-2.06.94zm-11 1L8.5 8.5l.94-2.06 2.06-.94-2.06-.94L8.5 2.5l-.94 2.06-2.06.94zm10 10l.94 2.06.94-2.06 2.06-.94-2.06-.94-.94-2.06-.94 2.06-2.06.94z\"/><path d=\"M17.41 7.96l-1.37-1.37c-.4-.4-.92-.59-1.43-.59-.52 0-1.04.2-1.43.59L10.3 9.45l-7.72 7.72c-.78.78-.78 2.05 0 2.83L4 21.41c.39.39.9.59 1.41.59.51 0 1.02-.2 1.41-.59l7.78-7.78 2.81-2.81c.8-.78.8-2.07 0-2.86zM5.41 20L4 18.59l7.72-7.72 1.47 1.35L5.41 20z\"/>\n",
              "  </svg>\n",
              "      </button>\n",
              "      \n",
              "  <style>\n",
              "    .colab-df-container {\n",
              "      display:flex;\n",
              "      flex-wrap:wrap;\n",
              "      gap: 12px;\n",
              "    }\n",
              "\n",
              "    .colab-df-convert {\n",
              "      background-color: #E8F0FE;\n",
              "      border: none;\n",
              "      border-radius: 50%;\n",
              "      cursor: pointer;\n",
              "      display: none;\n",
              "      fill: #1967D2;\n",
              "      height: 32px;\n",
              "      padding: 0 0 0 0;\n",
              "      width: 32px;\n",
              "    }\n",
              "\n",
              "    .colab-df-convert:hover {\n",
              "      background-color: #E2EBFA;\n",
              "      box-shadow: 0px 1px 2px rgba(60, 64, 67, 0.3), 0px 1px 3px 1px rgba(60, 64, 67, 0.15);\n",
              "      fill: #174EA6;\n",
              "    }\n",
              "\n",
              "    [theme=dark] .colab-df-convert {\n",
              "      background-color: #3B4455;\n",
              "      fill: #D2E3FC;\n",
              "    }\n",
              "\n",
              "    [theme=dark] .colab-df-convert:hover {\n",
              "      background-color: #434B5C;\n",
              "      box-shadow: 0px 1px 3px 1px rgba(0, 0, 0, 0.15);\n",
              "      filter: drop-shadow(0px 1px 2px rgba(0, 0, 0, 0.3));\n",
              "      fill: #FFFFFF;\n",
              "    }\n",
              "  </style>\n",
              "\n",
              "      <script>\n",
              "        const buttonEl =\n",
              "          document.querySelector('#df-fafedee5-ac6c-42fe-a6af-3f07cdde7776 button.colab-df-convert');\n",
              "        buttonEl.style.display =\n",
              "          google.colab.kernel.accessAllowed ? 'block' : 'none';\n",
              "\n",
              "        async function convertToInteractive(key) {\n",
              "          const element = document.querySelector('#df-fafedee5-ac6c-42fe-a6af-3f07cdde7776');\n",
              "          const dataTable =\n",
              "            await google.colab.kernel.invokeFunction('convertToInteractive',\n",
              "                                                     [key], {});\n",
              "          if (!dataTable) return;\n",
              "\n",
              "          const docLinkHtml = 'Like what you see? Visit the ' +\n",
              "            '<a target=\"_blank\" href=https://colab.research.google.com/notebooks/data_table.ipynb>data table notebook</a>'\n",
              "            + ' to learn more about interactive tables.';\n",
              "          element.innerHTML = '';\n",
              "          dataTable['output_type'] = 'display_data';\n",
              "          await google.colab.output.renderOutput(dataTable, element);\n",
              "          const docLink = document.createElement('div');\n",
              "          docLink.innerHTML = docLinkHtml;\n",
              "          element.appendChild(docLink);\n",
              "        }\n",
              "      </script>\n",
              "    </div>\n",
              "  </div>\n",
              "  "
            ]
          },
          "metadata": {},
          "execution_count": 17
        }
      ]
    },
    {
      "cell_type": "code",
      "source": [
        "X = df_upsampled.drop('desired', axis=1)\n",
        "y = df_upsampled['desired']\n",
        "RS = 123\n",
        "\n",
        "# Split dataframe into training and test/validation set\n",
        "X_train, X_test, y_train, y_test = train_test_split(X, y, test_size=0.2, random_state=RS)\n"
      ],
      "metadata": {
        "id": "tZz1KowBuxol"
      },
      "execution_count": 18,
      "outputs": []
    },
    {
      "cell_type": "code",
      "source": [
        "from sklearn.metrics import accuracy_score, log_loss\n",
        "from sklearn.neighbors import KNeighborsClassifier\n",
        "from sklearn.svm import SVC, LinearSVC, NuSVC\n",
        "from sklearn.tree import DecisionTreeClassifier\n",
        "from sklearn.ensemble import RandomForestClassifier, AdaBoostClassifier, GradientBoostingClassifier\n",
        "from sklearn.naive_bayes import GaussianNB\n",
        "from sklearn.discriminant_analysis import LinearDiscriminantAnalysis\n",
        "from sklearn.discriminant_analysis import QuadraticDiscriminantAnalysis\n",
        "from xgboost import XGBClassifier\n",
        "from lightgbm import LGBMClassifier\n",
        "\n",
        "classifiers = [\n",
        "    KNeighborsClassifier(3),\n",
        "    SVC(kernel=\"rbf\", C=0.025, probability=True),\n",
        "    NuSVC(probability=True),\n",
        "    DecisionTreeClassifier(),\n",
        "    RandomForestClassifier(),\n",
        "    XGBClassifier(),\n",
        "    AdaBoostClassifier(),\n",
        "    GradientBoostingClassifier(),\n",
        "    GaussianNB(),\n",
        "    LinearDiscriminantAnalysis(),\n",
        "    QuadraticDiscriminantAnalysis(),\n",
        "    LGBMClassifier()]"
      ],
      "metadata": {
        "id": "Fw0UOzzHu09N"
      },
      "execution_count": 19,
      "outputs": []
    },
    {
      "cell_type": "code",
      "source": [
        "log_cols=[\"Classifier\", \"Accuracy\", \"Log Loss\"]\n",
        "log = pd.DataFrame(columns=log_cols)\n",
        "\n",
        "for clf in classifiers:\n",
        "    clf.fit(X_train, y_train)\n",
        "    name = clf.__class__.__name__\n",
        "\n",
        "    print(\"=\"*30)\n",
        "    print(name)\n",
        "\n",
        "    print('****Results****')\n",
        "    train_predictions = clf.predict(X_test)\n",
        "    acc = accuracy_score(y_test, train_predictions)\n",
        "    print(\"Accuracy: {:.4%}\".format(acc))\n",
        "\n",
        "    train_predictions = clf.predict_proba(X_test)\n",
        "    ll = log_loss(y_test, train_predictions)\n",
        "    print(\"Log Loss: {}\".format(ll))\n",
        "\n",
        "    log_entry = pd.DataFrame([[name, acc*100, ll]], columns=log_cols)\n",
        "    log = log.append(log_entry) # type: ignore\n",
        "\n",
        "print(\"=\"*30)"
      ],
      "metadata": {
        "colab": {
          "base_uri": "https://localhost:8080/"
        },
        "id": "doS2oNFyu3Nk",
        "outputId": "cc403beb-c0f3-43f1-e4b0-d88fa0907a68"
      },
      "execution_count": null,
      "outputs": [
        {
          "metadata": {
            "tags": null
          },
          "name": "stdout",
          "output_type": "stream",
          "text": [
            "==============================\n",
            "KNeighborsClassifier\n",
            "****Results****\n",
            "Accuracy: 99.6147%\n",
            "Log Loss: 0.07964978341164428\n"
          ]
        }
      ]
    }
  ]
}