{
  "nbformat": 4,
  "nbformat_minor": 0,
  "metadata": {
    "colab": {
      "provenance": [],
      "machine_shape": "hm",
      "gpuType": "A100",
      "authorship_tag": "ABX9TyMO9N48cysvwKD1AMbBJ26f",
      "include_colab_link": true
    },
    "kernelspec": {
      "name": "python3",
      "display_name": "Python 3"
    },
    "language_info": {
      "name": "python"
    },
    "accelerator": "GPU"
  },
  "cells": [
    {
      "cell_type": "markdown",
      "metadata": {
        "id": "view-in-github",
        "colab_type": "text"
      },
      "source": [
        "<a href=\"https://colab.research.google.com/github/CharlyWheels/Carlos_Rueda_TFM/blob/colab/Epc_CNN_padding.ipynb\" target=\"_parent\"><img src=\"https://colab.research.google.com/assets/colab-badge.svg\" alt=\"Open In Colab\"/></a>"
      ]
    },
    {
      "cell_type": "code",
      "execution_count": 1,
      "metadata": {
        "colab": {
          "base_uri": "https://localhost:8080/"
        },
        "id": "1q2J2KQqWdS2",
        "outputId": "19430dae-65b9-44d4-fe7a-dd3d4b73a14b"
      },
      "outputs": [
        {
          "output_type": "stream",
          "name": "stdout",
          "text": [
            "Mounted at /content/drive\n"
          ]
        }
      ],
      "source": [
        "import json\n",
        "import pandas as pd\n",
        "import numpy as np\n",
        "from google.colab import drive\n",
        "drive.mount('/content/drive')"
      ]
    },
    {
      "cell_type": "code",
      "source": [
        "df_epc = pd.read_csv('/content/drive/MyDrive/Colab Notebooks/epc.csv', engine='python')\n",
        "df_epc.shape"
      ],
      "metadata": {
        "colab": {
          "base_uri": "https://localhost:8080/"
        },
        "id": "7RxlO86fWlnJ",
        "outputId": "7f4081c4-75fc-40ca-db62-1a53a7243079"
      },
      "execution_count": 2,
      "outputs": [
        {
          "output_type": "execute_result",
          "data": {
            "text/plain": [
              "(804691, 38)"
            ]
          },
          "metadata": {},
          "execution_count": 2
        }
      ]
    },
    {
      "cell_type": "code",
      "source": [
        "df_epc.drop(['id', 'reference','epc','score', 'count', 'maxRssiValue',\n",
        "        'minRssiValue', 'maxTimeStamp', 'minTimeStamp', 'rssiDiff',\n",
        "        'seenDiff', 'antenna1', 'antenna2', 'antenna3', 'antenna4', 'ts_percent0',\n",
        "       'ts_percent1', 'ts_percent2', 'ts_percent3', 'ts_percent4',\n",
        "       'ts_percent5', 'ts_percent6', 'ts_percent7', 'ts_percent8',\n",
        "       'rv_percent0', 'rv_percent1', 'rv_percent2', 'rv_percent3',\n",
        "       'rv_percent4', 'rv_percent5', 'rv_percent6', 'rv_percent7',\n",
        "       'rv_percent8', 'lastModification'], axis=1, inplace=True)\n",
        "df_epc.shape"
      ],
      "metadata": {
        "colab": {
          "base_uri": "https://localhost:8080/"
        },
        "id": "NDr9axVbWye2",
        "outputId": "d000a4ff-77e2-402e-e6aa-c4e18e319a5a"
      },
      "execution_count": 3,
      "outputs": [
        {
          "output_type": "execute_result",
          "data": {
            "text/plain": [
              "(804691, 4)"
            ]
          },
          "metadata": {},
          "execution_count": 3
        }
      ]
    },
    {
      "cell_type": "code",
      "source": [
        "df_epc = df_epc.dropna(subset=['desired'])"
      ],
      "metadata": {
        "id": "cr0jGQ0wW0jD"
      },
      "execution_count": 4,
      "outputs": []
    },
    {
      "cell_type": "code",
      "source": [
        "df_epc[\"desired\"] = df_epc[\"desired\"].astype(int)"
      ],
      "metadata": {
        "colab": {
          "base_uri": "https://localhost:8080/"
        },
        "id": "B1FkQNxGW2Qb",
        "outputId": "6a671356-5803-4694-b2cf-f4a857dbd022"
      },
      "execution_count": 5,
      "outputs": [
        {
          "output_type": "stream",
          "name": "stderr",
          "text": [
            "<ipython-input-5-0a63cd044442>:1: SettingWithCopyWarning: \n",
            "A value is trying to be set on a copy of a slice from a DataFrame.\n",
            "Try using .loc[row_indexer,col_indexer] = value instead\n",
            "\n",
            "See the caveats in the documentation: https://pandas.pydata.org/pandas-docs/stable/user_guide/indexing.html#returning-a-view-versus-a-copy\n",
            "  df_epc[\"desired\"] = df_epc[\"desired\"].astype(int)\n"
          ]
        }
      ]
    },
    {
      "cell_type": "code",
      "source": [
        "from sklearn.utils import resample\n",
        "\n",
        "df_epc_majority = df_epc[df_epc.desired==1]\n",
        "df_epc_minority = df_epc[df_epc.desired==0]\n",
        "\n",
        "print(df_epc_majority.shape)\n",
        "print(df_epc_minority.shape)"
      ],
      "metadata": {
        "colab": {
          "base_uri": "https://localhost:8080/"
        },
        "id": "g9Q8yoScW4dk",
        "outputId": "2c05c89d-922e-4cec-fb6a-5bde9b4a12dd"
      },
      "execution_count": 6,
      "outputs": [
        {
          "output_type": "stream",
          "name": "stdout",
          "text": [
            "(757822, 4)\n",
            "(4731, 4)\n"
          ]
        }
      ]
    },
    {
      "cell_type": "code",
      "source": [
        "df_epc_minority_upsampled = resample(df_epc_minority, replace=True, n_samples=757822, random_state=123)"
      ],
      "metadata": {
        "id": "1mPhVyFdW6cF"
      },
      "execution_count": 7,
      "outputs": []
    },
    {
      "cell_type": "code",
      "source": [
        "df_epc_upsampled = pd.concat([df_epc_majority, df_epc_minority_upsampled])"
      ],
      "metadata": {
        "id": "dJV4BLQ9W8k7"
      },
      "execution_count": 8,
      "outputs": []
    },
    {
      "cell_type": "code",
      "source": [
        "X = []\n",
        "Y = []\n",
        "for index, row in df_epc_upsampled.iterrows():\n",
        "  X_ts = np.pad(np.array(json.loads(row['timeStamp'])), (175 - len(np.array(json.loads(row['timeStamp']))), 0), mode='constant')\n",
        "  X_rv = np.pad(np.array(json.loads(row['rssiValue'])), (175 - len(np.array(json.loads(row['rssiValue']))), 0), mode='constant')\n",
        "  X_an = np.pad(np.array(json.loads(row['antennas'])), (175 - len(np.array(json.loads(row['antennas']))), 0), mode='constant')\n",
        "  Y_item = row['desired']\n",
        "  X_item = np.array(list(zip(X_ts,X_rv,X_an)))\n",
        "  X.append(X_item)\n",
        "  Y.append(Y_item)\n",
        "\n",
        "X = np.array(X)\n",
        "Y = np.array(Y)\n",
        "print(X.shape)\n",
        "print(Y.shape)"
      ],
      "metadata": {
        "colab": {
          "base_uri": "https://localhost:8080/"
        },
        "id": "9ZK7o5DwXAMd",
        "outputId": "af70c94d-9ef3-47a9-9379-e0cd88623353"
      },
      "execution_count": 9,
      "outputs": [
        {
          "output_type": "stream",
          "name": "stdout",
          "text": [
            "(1515644, 175, 3)\n",
            "(1515644,)\n"
          ]
        }
      ]
    },
    {
      "cell_type": "code",
      "source": [
        "from keras.utils.np_utils import to_categorical\n",
        "y = np.array(to_categorical(Y))"
      ],
      "metadata": {
        "id": "UsEdOW6NXCcu"
      },
      "execution_count": 11,
      "outputs": []
    },
    {
      "cell_type": "code",
      "source": [
        "from keras.layers import Embedding,Dense,LSTM,Dropout,Flatten,BatchNormalization,Conv1D,GlobalMaxPooling1D,MaxPooling1D\n",
        "from keras.models import Sequential\n",
        "from keras.optimizers import Adam\n",
        "from keras.callbacks import EarlyStopping\n",
        "\n",
        "model = Sequential()\n",
        "model.add(Conv1D(16, kernel_size=3, activation='relu', input_shape=(175,3)))\n",
        "model.add(Conv1D(32, kernel_size=3, activation='relu'))\n",
        "model.add(MaxPooling1D(2))\n",
        "model.add(Flatten())\n",
        "model.add(Dense(2, activation='softmax'))\n",
        "model.compile(loss='binary_crossentropy', metrics=['accuracy'])"
      ],
      "metadata": {
        "id": "CPuipnu7X_T9"
      },
      "execution_count": 12,
      "outputs": []
    },
    {
      "cell_type": "code",
      "source": [
        "es1 = EarlyStopping(monitor='loss', mode='min',patience=5)"
      ],
      "metadata": {
        "id": "SgPcT4ftXFKI"
      },
      "execution_count": 13,
      "outputs": []
    },
    {
      "cell_type": "code",
      "source": [
        "history_cnn = model.fit(X, y, epochs=100, batch_size=300 ,shuffle=True , callbacks=[es1])"
      ],
      "metadata": {
        "colab": {
          "base_uri": "https://localhost:8080/"
        },
        "id": "UL3RIuerXG1H",
        "outputId": "a1c73e80-0682-49bb-dabd-7abaa88cb9ee"
      },
      "execution_count": 14,
      "outputs": [
        {
          "output_type": "stream",
          "name": "stdout",
          "text": [
            "Epoch 1/100\n",
            "5053/5053 [==============================] - 28s 3ms/step - loss: 0.3024 - accuracy: 0.8865\n",
            "Epoch 2/100\n",
            "5053/5053 [==============================] - 17s 3ms/step - loss: 0.2478 - accuracy: 0.8957\n",
            "Epoch 3/100\n",
            "5053/5053 [==============================] - 17s 3ms/step - loss: 0.2361 - accuracy: 0.8999\n",
            "Epoch 4/100\n",
            "5053/5053 [==============================] - 17s 3ms/step - loss: 0.2296 - accuracy: 0.9022\n",
            "Epoch 5/100\n",
            "5053/5053 [==============================] - 17s 3ms/step - loss: 0.2325 - accuracy: 0.9040\n",
            "Epoch 6/100\n",
            "5053/5053 [==============================] - 17s 3ms/step - loss: 0.2302 - accuracy: 0.9056\n",
            "Epoch 7/100\n",
            "5053/5053 [==============================] - 17s 3ms/step - loss: 0.2182 - accuracy: 0.9077\n",
            "Epoch 8/100\n",
            "5053/5053 [==============================] - 17s 3ms/step - loss: 0.2332 - accuracy: 0.9082\n",
            "Epoch 9/100\n",
            "5053/5053 [==============================] - 17s 3ms/step - loss: 0.2196 - accuracy: 0.9090\n",
            "Epoch 10/100\n",
            "5053/5053 [==============================] - 17s 3ms/step - loss: 0.2189 - accuracy: 0.9096\n",
            "Epoch 11/100\n",
            "5053/5053 [==============================] - 17s 3ms/step - loss: 0.2164 - accuracy: 0.9104\n",
            "Epoch 12/100\n",
            "5053/5053 [==============================] - 17s 3ms/step - loss: 0.2214 - accuracy: 0.9114\n",
            "Epoch 13/100\n",
            "5053/5053 [==============================] - 17s 3ms/step - loss: 0.2125 - accuracy: 0.9118\n",
            "Epoch 14/100\n",
            "5053/5053 [==============================] - 17s 3ms/step - loss: 0.2085 - accuracy: 0.9124\n",
            "Epoch 15/100\n",
            "5053/5053 [==============================] - 17s 3ms/step - loss: 0.2060 - accuracy: 0.9135\n",
            "Epoch 16/100\n",
            "5053/5053 [==============================] - 17s 3ms/step - loss: 0.2076 - accuracy: 0.9138\n",
            "Epoch 17/100\n",
            "5053/5053 [==============================] - 17s 3ms/step - loss: 0.2061 - accuracy: 0.9142\n",
            "Epoch 18/100\n",
            "5053/5053 [==============================] - 17s 3ms/step - loss: 0.2066 - accuracy: 0.9138\n",
            "Epoch 19/100\n",
            "5053/5053 [==============================] - 17s 3ms/step - loss: 0.2058 - accuracy: 0.9148\n",
            "Epoch 20/100\n",
            "5053/5053 [==============================] - 17s 3ms/step - loss: 0.2095 - accuracy: 0.9151\n",
            "Epoch 21/100\n",
            "5053/5053 [==============================] - 17s 3ms/step - loss: 0.2081 - accuracy: 0.9147\n",
            "Epoch 22/100\n",
            "5053/5053 [==============================] - 17s 3ms/step - loss: 0.2074 - accuracy: 0.9152\n",
            "Epoch 23/100\n",
            "5053/5053 [==============================] - 17s 3ms/step - loss: 0.2051 - accuracy: 0.9156\n",
            "Epoch 24/100\n",
            "5053/5053 [==============================] - 17s 3ms/step - loss: 0.2037 - accuracy: 0.9158\n",
            "Epoch 25/100\n",
            "5053/5053 [==============================] - 17s 3ms/step - loss: 0.2037 - accuracy: 0.9158\n",
            "Epoch 26/100\n",
            "5053/5053 [==============================] - 17s 3ms/step - loss: 0.2046 - accuracy: 0.9158\n",
            "Epoch 27/100\n",
            "5053/5053 [==============================] - 17s 3ms/step - loss: 0.2037 - accuracy: 0.9163\n",
            "Epoch 28/100\n",
            "5053/5053 [==============================] - 17s 3ms/step - loss: 0.2037 - accuracy: 0.9162\n",
            "Epoch 29/100\n",
            "5053/5053 [==============================] - 17s 3ms/step - loss: 0.2007 - accuracy: 0.9170\n",
            "Epoch 30/100\n",
            "5053/5053 [==============================] - 17s 3ms/step - loss: 0.1997 - accuracy: 0.9172\n",
            "Epoch 31/100\n",
            "5053/5053 [==============================] - 17s 3ms/step - loss: 0.2014 - accuracy: 0.9173\n",
            "Epoch 32/100\n",
            "5053/5053 [==============================] - 17s 3ms/step - loss: 0.1986 - accuracy: 0.9176\n",
            "Epoch 33/100\n",
            "5053/5053 [==============================] - 17s 3ms/step - loss: 0.1983 - accuracy: 0.9180\n",
            "Epoch 34/100\n",
            "5053/5053 [==============================] - 17s 3ms/step - loss: 0.1973 - accuracy: 0.9183\n",
            "Epoch 35/100\n",
            "5053/5053 [==============================] - 17s 3ms/step - loss: 0.1968 - accuracy: 0.9186\n",
            "Epoch 36/100\n",
            "5053/5053 [==============================] - 17s 3ms/step - loss: 0.1971 - accuracy: 0.9186\n",
            "Epoch 37/100\n",
            "5053/5053 [==============================] - 17s 3ms/step - loss: 0.1965 - accuracy: 0.9190\n",
            "Epoch 38/100\n",
            "5053/5053 [==============================] - 17s 3ms/step - loss: 0.1959 - accuracy: 0.9191\n",
            "Epoch 39/100\n",
            "5053/5053 [==============================] - 17s 3ms/step - loss: 0.1961 - accuracy: 0.9193\n",
            "Epoch 40/100\n",
            "5053/5053 [==============================] - 17s 3ms/step - loss: 0.1947 - accuracy: 0.9196\n",
            "Epoch 41/100\n",
            "5053/5053 [==============================] - 17s 3ms/step - loss: 0.1959 - accuracy: 0.9194\n",
            "Epoch 42/100\n",
            "5053/5053 [==============================] - 17s 3ms/step - loss: 0.1952 - accuracy: 0.9199\n",
            "Epoch 43/100\n",
            "5053/5053 [==============================] - 17s 3ms/step - loss: 0.1947 - accuracy: 0.9202\n",
            "Epoch 44/100\n",
            "5053/5053 [==============================] - 17s 3ms/step - loss: 0.1944 - accuracy: 0.9202\n",
            "Epoch 45/100\n",
            "5053/5053 [==============================] - 17s 3ms/step - loss: 0.1937 - accuracy: 0.9201\n",
            "Epoch 46/100\n",
            "5053/5053 [==============================] - 17s 3ms/step - loss: 0.1928 - accuracy: 0.9203\n",
            "Epoch 47/100\n",
            "5053/5053 [==============================] - 17s 3ms/step - loss: 0.1934 - accuracy: 0.9203\n",
            "Epoch 48/100\n",
            "5053/5053 [==============================] - 17s 3ms/step - loss: 0.1934 - accuracy: 0.9202\n",
            "Epoch 49/100\n",
            "5053/5053 [==============================] - 17s 3ms/step - loss: 0.1927 - accuracy: 0.9205\n",
            "Epoch 50/100\n",
            "5053/5053 [==============================] - 17s 3ms/step - loss: 0.1936 - accuracy: 0.9202\n",
            "Epoch 51/100\n",
            "5053/5053 [==============================] - 17s 3ms/step - loss: 0.1942 - accuracy: 0.9201\n",
            "Epoch 52/100\n",
            "5053/5053 [==============================] - 17s 3ms/step - loss: 0.1951 - accuracy: 0.9200\n",
            "Epoch 53/100\n",
            "5053/5053 [==============================] - 17s 3ms/step - loss: 0.1942 - accuracy: 0.9205\n",
            "Epoch 54/100\n",
            "5053/5053 [==============================] - 17s 3ms/step - loss: 0.1933 - accuracy: 0.9204\n"
          ]
        }
      ]
    },
    {
      "cell_type": "code",
      "source": [
        "import matplotlib.pyplot as plt\n",
        "\n",
        "fig, axes = plt.subplots(1, 2, figsize = (16,6))\n",
        "axes[0].plot(history_cnn.history['accuracy'])\n",
        "axes[0].set_title('model accuracy')\n",
        "axes[0].set_ylabel('accuracy')\n",
        "axes[0].set_xlabel('epoch')\n",
        "axes[0].legend(['train', 'val'], loc='lower right')\n",
        "\n",
        "axes[1].plot(history_cnn.history['loss'])\n",
        "axes[1].set_title('model loss')\n",
        "axes[1].set_ylabel('accuracy')\n",
        "axes[1].set_xlabel('epoch')\n",
        "axes[1].legend(['val_loss', 'loss'], loc='lower right')"
      ],
      "metadata": {
        "colab": {
          "base_uri": "https://localhost:8080/",
          "height": 545
        },
        "id": "hH1fU5GLXLWa",
        "outputId": "b753688c-dc12-4652-8db8-18704e88c524"
      },
      "execution_count": 17,
      "outputs": [
        {
          "output_type": "execute_result",
          "data": {
            "text/plain": [
              "<matplotlib.legend.Legend at 0x7f9e983048e0>"
            ]
          },
          "metadata": {},
          "execution_count": 17
        },
        {
          "output_type": "display_data",
          "data": {
            "text/plain": [
              "<Figure size 1600x600 with 2 Axes>"
            ],
            "image/png": "[encoded data removed]"
          },
          "metadata": {}
        }
      ]
    },
    {
      "cell_type": "code",
      "source": [],
      "metadata": {
        "id": "Fyp8vwHWdgzV"
      },
      "execution_count": null,
      "outputs": []
    }
  ]
}