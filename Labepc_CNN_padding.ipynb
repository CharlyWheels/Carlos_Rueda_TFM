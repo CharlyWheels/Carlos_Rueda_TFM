{
  "nbformat": 4,
  "nbformat_minor": 0,
  "metadata": {
    "colab": {
      "provenance": [],
      "machine_shape": "hm",
      "gpuType": "A100",
      "authorship_tag": "ABX9TyPWUZ7U80gyFZ5cBdRfH/jZ",
      "include_colab_link": true
    },
    "kernelspec": {
      "name": "python3",
      "display_name": "Python 3"
    },
    "language_info": {
      "name": "python"
    },
    "accelerator": "GPU"
  },
  "cells": [
    {
      "cell_type": "markdown",
      "metadata": {
        "id": "view-in-github",
        "colab_type": "text"
      },
      "source": [
        "<a href=\"https://colab.research.google.com/github/CharlyWheels/Carlos_Rueda_TFM/blob/colab/Labepc_CNN_padding.ipynb\" target=\"_parent\"><img src=\"https://colab.research.google.com/assets/colab-badge.svg\" alt=\"Open In Colab\"/></a>"
      ]
    },
    {
      "cell_type": "code",
      "execution_count": 114,
      "metadata": {
        "colab": {
          "base_uri": "https://localhost:8080/"
        },
        "id": "AzjR-FTJmmGx",
        "outputId": "d107ad32-d37f-49e8-c7a3-eafe3e109947"
      },
      "outputs": [
        {
          "output_type": "stream",
          "name": "stdout",
          "text": [
            "Drive already mounted at /content/drive; to attempt to forcibly remount, call drive.mount(\"/content/drive\", force_remount=True).\n"
          ]
        }
      ],
      "source": [
        "import json\n",
        "import pandas as pd\n",
        "import numpy as np\n",
        "from google.colab import drive\n",
        "drive.mount('/content/drive')"
      ]
    },
    {
      "cell_type": "code",
      "source": [
        "df = pd.read_csv('/content/drive/MyDrive/Colab Notebooks/labdata.csv', engine='python')\n",
        "df.shape"
      ],
      "metadata": {
        "colab": {
          "base_uri": "https://localhost:8080/"
        },
        "id": "hGcyoufWmuT8",
        "outputId": "b2929621-3b09-42b2-f249-8fd158688085"
      },
      "execution_count": 115,
      "outputs": [
        {
          "output_type": "execute_result",
          "data": {
            "text/plain": [
              "(1173, 38)"
            ]
          },
          "metadata": {},
          "execution_count": 115
        }
      ]
    },
    {
      "cell_type": "code",
      "source": [
        "print(df.columns)"
      ],
      "metadata": {
        "colab": {
          "base_uri": "https://localhost:8080/"
        },
        "id": "QoLquq3Qmxq6",
        "outputId": "8f89fe1f-f2c1-4edf-bd2e-549d612924b5"
      },
      "execution_count": 116,
      "outputs": [
        {
          "output_type": "stream",
          "name": "stdout",
          "text": [
            "Index(['id', 'reference', 'epc', 'score', 'count', 'maxRssiValue',\n",
            "       'minRssiValue', 'maxTimeStamp', 'minTimeStamp', 'rssiDiff', 'seenDiff',\n",
            "       'antenna1', 'antenna2', 'antenna3', 'antenna4', 'ts_percent0',\n",
            "       'ts_percent1', 'ts_percent2', 'ts_percent3', 'ts_percent4',\n",
            "       'ts_percent5', 'ts_percent6', 'ts_percent7', 'ts_percent8',\n",
            "       'rv_percent0', 'rv_percent1', 'rv_percent2', 'rv_percent3',\n",
            "       'rv_percent4', 'rv_percent5', 'rv_percent6', 'rv_percent7',\n",
            "       'rv_percent8', 'lastModification', 'timeStamp', 'rssiValue', 'antennas',\n",
            "       'desired'],\n",
            "      dtype='object')\n"
          ]
        }
      ]
    },
    {
      "cell_type": "code",
      "source": [
        "df.drop(['id', 'reference','epc','score', 'count', 'maxRssiValue',\n",
        "        'minRssiValue', 'maxTimeStamp', 'minTimeStamp', 'rssiDiff',\n",
        "        'seenDiff', 'antenna1', 'antenna2', 'antenna3', 'antenna4', 'ts_percent0',\n",
        "       'ts_percent1', 'ts_percent2', 'ts_percent3', 'ts_percent4',\n",
        "       'ts_percent5', 'ts_percent6', 'ts_percent7', 'ts_percent8',\n",
        "       'rv_percent0', 'rv_percent1', 'rv_percent2', 'rv_percent3',\n",
        "       'rv_percent4', 'rv_percent5', 'rv_percent6', 'rv_percent7',\n",
        "       'rv_percent8', 'lastModification'], axis=1, inplace=True)\n",
        "df.shape"
      ],
      "metadata": {
        "colab": {
          "base_uri": "https://localhost:8080/"
        },
        "id": "EjKRNh4zmzl1",
        "outputId": "0d9ceebe-d698-4a83-b373-a862225c8ee9"
      },
      "execution_count": 117,
      "outputs": [
        {
          "output_type": "execute_result",
          "data": {
            "text/plain": [
              "(1173, 4)"
            ]
          },
          "metadata": {},
          "execution_count": 117
        }
      ]
    },
    {
      "cell_type": "code",
      "source": [
        "df.info()"
      ],
      "metadata": {
        "colab": {
          "base_uri": "https://localhost:8080/"
        },
        "id": "XV3BRX-rnENg",
        "outputId": "928f77bc-7bb3-4ec6-ac84-e11a24fe8452"
      },
      "execution_count": 118,
      "outputs": [
        {
          "output_type": "stream",
          "name": "stdout",
          "text": [
            "<class 'pandas.core.frame.DataFrame'>\n",
            "RangeIndex: 1173 entries, 0 to 1172\n",
            "Data columns (total 4 columns):\n",
            " #   Column     Non-Null Count  Dtype \n",
            "---  ------     --------------  ----- \n",
            " 0   timeStamp  1173 non-null   object\n",
            " 1   rssiValue  1173 non-null   object\n",
            " 2   antennas   1173 non-null   object\n",
            " 3   desired    1173 non-null   int64 \n",
            "dtypes: int64(1), object(3)\n",
            "memory usage: 36.8+ KB\n"
          ]
        }
      ]
    },
    {
      "cell_type": "code",
      "source": [
        "from sklearn.utils import resample\n",
        "\n",
        "df_majority = df[df.desired==1]\n",
        "df_minority = df[df.desired==0]\n",
        "\n",
        "df_minority_upsampled = resample(df_minority, replace=True, n_samples=1088, random_state=123)"
      ],
      "metadata": {
        "id": "bPUWEavxnGdL"
      },
      "execution_count": 119,
      "outputs": []
    },
    {
      "cell_type": "code",
      "source": [
        "df_upsampled = pd.concat([df_majority, df_minority_upsampled]) # type: ignore"
      ],
      "metadata": {
        "id": "NXQmT551nIph"
      },
      "execution_count": 120,
      "outputs": []
    },
    {
      "cell_type": "code",
      "source": [
        "df_upsampled = df_upsampled.sample(frac = 1)"
      ],
      "metadata": {
        "id": "g6i2iIginKdV"
      },
      "execution_count": 121,
      "outputs": []
    },
    {
      "cell_type": "code",
      "source": [
        "X_lab = []\n",
        "Y_lab = []\n",
        "for index, row in df_upsampled.iterrows():\n",
        "  X_ts = np.pad(np.array(json.loads(row['timeStamp'])), (175 - len(np.array(json.loads(row['timeStamp']))), 0), mode='constant')\n",
        "  X_rv = np.pad(np.array(json.loads(row['rssiValue'])), (175 - len(np.array(json.loads(row['rssiValue']))), 0), mode='constant')\n",
        "  X_an = np.pad(np.array(json.loads(row['antennas'])), (175 - len(np.array(json.loads(row['antennas']))), 0), mode='constant')\n",
        "  Y_item = row['desired']\n",
        "  X_item = np.array(list(zip(X_ts,X_rv,X_an)))\n",
        "  X_lab.append(X_item)\n",
        "  Y_lab.append(Y_item)\n",
        "\n",
        "print(np.shape(X_lab))\n",
        "print(np.shape(Y_lab))"
      ],
      "metadata": {
        "colab": {
          "base_uri": "https://localhost:8080/"
        },
        "id": "aTv44BcjnN96",
        "outputId": "c4d49fed-e77b-47a1-f806-d750a04da2fa"
      },
      "execution_count": 122,
      "outputs": [
        {
          "output_type": "stream",
          "name": "stdout",
          "text": [
            "(2176, 175, 3)\n",
            "(2176,)\n"
          ]
        }
      ]
    },
    {
      "cell_type": "code",
      "source": [
        "print(type(X_lab))\n",
        "print(np.shape(X_lab))"
      ],
      "metadata": {
        "colab": {
          "base_uri": "https://localhost:8080/"
        },
        "id": "U7XyazRbnQI_",
        "outputId": "2ed974bc-4fa8-445a-f666-41dabd796f94"
      },
      "execution_count": 123,
      "outputs": [
        {
          "output_type": "stream",
          "name": "stdout",
          "text": [
            "<class 'list'>\n",
            "(2176, 175, 3)\n"
          ]
        }
      ]
    },
    {
      "cell_type": "code",
      "source": [
        "from keras.utils.np_utils import to_categorical\n",
        "\n",
        "x_train = np.array(X_lab[:1700])\n",
        "print(x_train.shape)\n",
        "x_test = np.array(X_lab[1701:])\n",
        "print(x_test.shape)\n",
        "y_train = np.array(Y_lab[:1700])\n",
        "y_test = np.array(Y_lab[1701:])\n",
        "y_train = to_categorical(y_train)\n",
        "y_test = to_categorical(y_test)\n",
        "print(y_train.shape)\n",
        "print(y_test.shape)\n",
        "\n",
        "#reshape data to fit model\n",
        "#x_train = x_train.reshape(1900,175,3,1)\n",
        "#x_test = x_test.reshape(275,175,3,1)"
      ],
      "metadata": {
        "colab": {
          "base_uri": "https://localhost:8080/"
        },
        "id": "Qu4EtCX8nS8i",
        "outputId": "c516fcb9-766c-40ce-fba2-4c6c43c130ef"
      },
      "execution_count": 124,
      "outputs": [
        {
          "output_type": "stream",
          "name": "stdout",
          "text": [
            "(1700, 175, 3)\n",
            "(475, 175, 3)\n",
            "(1700, 2)\n",
            "(475, 2)\n"
          ]
        }
      ]
    },
    {
      "cell_type": "code",
      "source": [
        "from keras.layers import Embedding,Dense,LSTM,Dropout,Flatten,BatchNormalization,Conv1D,GlobalMaxPooling1D,MaxPooling1D\n",
        "from keras.models import Sequential\n",
        "from keras.optimizers import Adam\n",
        "from keras.callbacks import EarlyStopping\n",
        "\n",
        "model = Sequential()\n",
        "model.add(Conv1D(16, kernel_size=3, activation='relu', input_shape=(175,3)))\n",
        "model.add(Conv1D(32, kernel_size=3, activation='relu'))\n",
        "model.add(MaxPooling1D(2))\n",
        "model.add(Flatten())\n",
        "model.add(Dense(2, activation='softmax'))\n",
        "model.compile(loss='binary_crossentropy', metrics=['accuracy'])"
      ],
      "metadata": {
        "id": "IB9rd4JanWjm"
      },
      "execution_count": 125,
      "outputs": []
    },
    {
      "cell_type": "code",
      "source": [
        "es = EarlyStopping(monitor='val_loss', mode='min',patience=5)"
      ],
      "metadata": {
        "id": "xemx9obanY39"
      },
      "execution_count": 126,
      "outputs": []
    },
    {
      "cell_type": "code",
      "source": [
        "history_cnn = model.fit(x_train, y_train, epochs=300, batch_size=30 ,shuffle=False, validation_data=(x_test, y_test) , callbacks=[es])"
      ],
      "metadata": {
        "colab": {
          "base_uri": "https://localhost:8080/"
        },
        "id": "OcPd-mpmncSI",
        "outputId": "24592a60-d402-46f3-db9f-882b92a167a5"
      },
      "execution_count": 127,
      "outputs": [
        {
          "output_type": "stream",
          "name": "stdout",
          "text": [
            "Epoch 1/300\n",
            "57/57 [==============================] - 1s 7ms/step - loss: 2.4786 - accuracy: 0.9565 - val_loss: 1.2084 - val_accuracy: 0.9768\n",
            "Epoch 2/300\n",
            "57/57 [==============================] - 0s 4ms/step - loss: 0.5174 - accuracy: 0.9771 - val_loss: 0.8947 - val_accuracy: 0.9726\n",
            "Epoch 3/300\n",
            "57/57 [==============================] - 0s 4ms/step - loss: 0.2915 - accuracy: 0.9806 - val_loss: 0.6647 - val_accuracy: 0.9726\n",
            "Epoch 4/300\n",
            "57/57 [==============================] - 0s 4ms/step - loss: 0.1881 - accuracy: 0.9829 - val_loss: 0.3521 - val_accuracy: 0.9726\n",
            "Epoch 5/300\n",
            "57/57 [==============================] - 0s 4ms/step - loss: 0.0957 - accuracy: 0.9912 - val_loss: 0.3511 - val_accuracy: 0.9726\n",
            "Epoch 6/300\n",
            "57/57 [==============================] - 0s 4ms/step - loss: 0.0789 - accuracy: 0.9906 - val_loss: 0.0138 - val_accuracy: 1.0000\n",
            "Epoch 7/300\n",
            "57/57 [==============================] - 0s 4ms/step - loss: 0.0554 - accuracy: 0.9924 - val_loss: 0.0202 - val_accuracy: 0.9958\n",
            "Epoch 8/300\n",
            "57/57 [==============================] - 0s 4ms/step - loss: 0.0357 - accuracy: 0.9947 - val_loss: 0.0097 - val_accuracy: 1.0000\n",
            "Epoch 9/300\n",
            "57/57 [==============================] - 0s 4ms/step - loss: 0.0337 - accuracy: 0.9941 - val_loss: 0.0089 - val_accuracy: 0.9979\n",
            "Epoch 10/300\n",
            "57/57 [==============================] - 0s 4ms/step - loss: 0.0270 - accuracy: 0.9959 - val_loss: 0.0198 - val_accuracy: 0.9979\n",
            "Epoch 11/300\n",
            "57/57 [==============================] - 0s 4ms/step - loss: 0.0273 - accuracy: 0.9971 - val_loss: 0.0021 - val_accuracy: 1.0000\n",
            "Epoch 12/300\n",
            "57/57 [==============================] - 0s 4ms/step - loss: 0.0263 - accuracy: 0.9965 - val_loss: 9.8732e-04 - val_accuracy: 1.0000\n",
            "Epoch 13/300\n",
            "57/57 [==============================] - 0s 4ms/step - loss: 0.0182 - accuracy: 0.9976 - val_loss: 0.0011 - val_accuracy: 1.0000\n",
            "Epoch 14/300\n",
            "57/57 [==============================] - 0s 4ms/step - loss: 0.0229 - accuracy: 0.9971 - val_loss: 0.0014 - val_accuracy: 1.0000\n",
            "Epoch 15/300\n",
            "57/57 [==============================] - 0s 4ms/step - loss: 0.0152 - accuracy: 0.9971 - val_loss: 0.0080 - val_accuracy: 0.9979\n",
            "Epoch 16/300\n",
            "57/57 [==============================] - 0s 4ms/step - loss: 0.0117 - accuracy: 0.9982 - val_loss: 0.0032 - val_accuracy: 1.0000\n",
            "Epoch 17/300\n",
            "57/57 [==============================] - 0s 4ms/step - loss: 0.0225 - accuracy: 0.9982 - val_loss: 0.0019 - val_accuracy: 1.0000\n"
          ]
        }
      ]
    },
    {
      "cell_type": "code",
      "source": [
        "import matplotlib.pyplot as plt\n",
        "\n",
        "fig, axes = plt.subplots(1, 2, figsize = (16,6))\n",
        "axes[0].plot(history_cnn.history['accuracy'])\n",
        "axes[0].plot(history_cnn.history['val_accuracy'],'--')\n",
        "axes[0].set_title('model accuracy')\n",
        "axes[0].set_ylabel('accuracy')\n",
        "axes[0].set_xlabel('epoch')\n",
        "axes[0].legend(['train', 'val'], loc='lower right')\n",
        "\n",
        "axes[1].plot(history_cnn.history['loss'])\n",
        "axes[1].plot(history_cnn.history['val_loss'],\"--\")\n",
        "axes[1].set_title('model loss')\n",
        "axes[1].set_ylabel('accuracy')\n",
        "axes[1].set_xlabel('epoch')\n",
        "axes[1].legend(['val_loss', 'loss'], loc='lower right')"
      ],
      "metadata": {
        "colab": {
          "base_uri": "https://localhost:8080/",
          "height": 548
        },
        "id": "7ydWlPI8uh1-",
        "outputId": "d6e20279-2c5a-478e-a972-38c4b70f3fa2"
      },
      "execution_count": 128,
      "outputs": [
        {
          "output_type": "execute_result",
          "data": {
            "text/plain": [
              "<matplotlib.legend.Legend at 0x7f6ab7b43970>"
            ]
          },
          "metadata": {},
          "execution_count": 128
        },
        {
          "output_type": "display_data",
          "data": {
            "text/plain": [
              "<Figure size 1600x600 with 2 Axes>"
            ],
            "image/png": "[encoded data removed]"
          },
          "metadata": {}
        }
      ]
    },
    {
      "cell_type": "code",
      "source": [
        "df_epc = pd.read_csv('/content/drive/MyDrive/Colab Notebooks/epc.csv', engine='python')\n",
        "df_epc.shape"
      ],
      "metadata": {
        "colab": {
          "base_uri": "https://localhost:8080/"
        },
        "id": "geeauKQVvVav",
        "outputId": "752b8213-7e81-4333-de65-46ee60811c67"
      },
      "execution_count": 129,
      "outputs": [
        {
          "output_type": "execute_result",
          "data": {
            "text/plain": [
              "(804691, 38)"
            ]
          },
          "metadata": {},
          "execution_count": 129
        }
      ]
    },
    {
      "cell_type": "code",
      "source": [
        "df_epc.drop(['id', 'reference','epc','score', 'count', 'maxRssiValue',\n",
        "        'minRssiValue', 'maxTimeStamp', 'minTimeStamp', 'rssiDiff',\n",
        "        'seenDiff', 'antenna1', 'antenna2', 'antenna3', 'antenna4', 'ts_percent0',\n",
        "       'ts_percent1', 'ts_percent2', 'ts_percent3', 'ts_percent4',\n",
        "       'ts_percent5', 'ts_percent6', 'ts_percent7', 'ts_percent8',\n",
        "       'rv_percent0', 'rv_percent1', 'rv_percent2', 'rv_percent3',\n",
        "       'rv_percent4', 'rv_percent5', 'rv_percent6', 'rv_percent7',\n",
        "       'rv_percent8', 'lastModification'], axis=1, inplace=True)\n",
        "df.shape"
      ],
      "metadata": {
        "colab": {
          "base_uri": "https://localhost:8080/"
        },
        "id": "pRNh4ZcsvewN",
        "outputId": "7db92498-d32c-4a51-a0e9-042be98a515a"
      },
      "execution_count": 130,
      "outputs": [
        {
          "output_type": "execute_result",
          "data": {
            "text/plain": [
              "(1173, 4)"
            ]
          },
          "metadata": {},
          "execution_count": 130
        }
      ]
    },
    {
      "cell_type": "code",
      "source": [
        "df_epc = df_epc.dropna(subset=['desired'])"
      ],
      "metadata": {
        "id": "KF1i8BGkvgxU"
      },
      "execution_count": 131,
      "outputs": []
    },
    {
      "cell_type": "code",
      "source": [
        "df_epc[\"desired\"] = df_epc[\"desired\"].astype(int)"
      ],
      "metadata": {
        "colab": {
          "base_uri": "https://localhost:8080/"
        },
        "id": "80-5Uglkviy5",
        "outputId": "9ba5679b-6117-4ba8-f721-3c94fd32fc18"
      },
      "execution_count": 132,
      "outputs": [
        {
          "output_type": "stream",
          "name": "stderr",
          "text": [
            "<ipython-input-132-0a63cd044442>:1: SettingWithCopyWarning: \n",
            "A value is trying to be set on a copy of a slice from a DataFrame.\n",
            "Try using .loc[row_indexer,col_indexer] = value instead\n",
            "\n",
            "See the caveats in the documentation: https://pandas.pydata.org/pandas-docs/stable/user_guide/indexing.html#returning-a-view-versus-a-copy\n",
            "  df_epc[\"desired\"] = df_epc[\"desired\"].astype(int)\n"
          ]
        }
      ]
    },
    {
      "cell_type": "code",
      "source": [
        "X = []\n",
        "Y = []\n",
        "for index, row in df_epc.iterrows():\n",
        "  X_ts = np.pad(np.array(json.loads(row['timeStamp'])), (175 - len(np.array(json.loads(row['timeStamp']))), 0), mode='constant')\n",
        "  X_rv = np.pad(np.array(json.loads(row['rssiValue'])), (175 - len(np.array(json.loads(row['rssiValue']))), 0), mode='constant')\n",
        "  X_an = np.pad(np.array(json.loads(row['antennas'])), (175 - len(np.array(json.loads(row['antennas']))), 0), mode='constant')\n",
        "  Y_item = row['desired']\n",
        "  X_item = np.array(list(zip(X_ts,X_rv,X_an)))\n",
        "  X.append(X_item)\n",
        "  Y.append(Y_item)\n",
        "\n",
        "X = np.array(X)\n",
        "Y = np.array(Y)\n",
        "print(X.shape)\n",
        "print(Y.shape)"
      ],
      "metadata": {
        "colab": {
          "base_uri": "https://localhost:8080/"
        },
        "id": "4ooL9fAfvlHI",
        "outputId": "1ac962c3-3be9-443d-cee8-9124704fbf67"
      },
      "execution_count": 133,
      "outputs": [
        {
          "output_type": "stream",
          "name": "stdout",
          "text": [
            "(762553, 175, 3)\n",
            "(762553,)\n"
          ]
        }
      ]
    },
    {
      "cell_type": "code",
      "source": [
        "y = np.array(to_categorical(Y))"
      ],
      "metadata": {
        "id": "t6GhN6Gbv1C1"
      },
      "execution_count": 167,
      "outputs": []
    },
    {
      "cell_type": "code",
      "source": [
        "lossvalue, metrics = model.evaluate(X, y, verbose=1)"
      ],
      "metadata": {
        "colab": {
          "base_uri": "https://localhost:8080/"
        },
        "id": "hQUt7wOqv5LE",
        "outputId": "dbc76d30-0d43-48a1-f21b-54b14b3656f7"
      },
      "execution_count": 136,
      "outputs": [
        {
          "output_type": "stream",
          "name": "stdout",
          "text": [
            "23830/23830 [==============================] - 47s 2ms/step - loss: 3.5642 - accuracy: 0.5120\n"
          ]
        }
      ]
    },
    {
      "cell_type": "code",
      "source": [
        "predict_x =model.predict(X)\n",
        "classes_x = np.argmax(predict_x,axis=1)\n"
      ],
      "metadata": {
        "colab": {
          "base_uri": "https://localhost:8080/"
        },
        "id": "hKej2cRG_Hrc",
        "outputId": "4f1f397a-ad08-486f-f3cc-889fd1017722"
      },
      "execution_count": 147,
      "outputs": [
        {
          "output_type": "stream",
          "name": "stdout",
          "text": [
            "23830/23830 [==============================] - 33s 1ms/step\n"
          ]
        }
      ]
    },
    {
      "cell_type": "code",
      "source": [],
      "metadata": {
        "id": "K86iqYp6DE8u"
      },
      "execution_count": 162,
      "outputs": []
    },
    {
      "cell_type": "code",
      "source": [
        "from sklearn.metrics import confusion_matrix\n",
        "confusionmatrix = confusion_matrix(classes_x, Y)"
      ],
      "metadata": {
        "id": "Crb3pJsfAHNo"
      },
      "execution_count": 163,
      "outputs": []
    },
    {
      "cell_type": "code",
      "source": [
        "print(confusionmatrix)"
      ],
      "metadata": {
        "colab": {
          "base_uri": "https://localhost:8080/"
        },
        "id": "DuDOsn1uDXlw",
        "outputId": "1c574f0c-6611-458c-a6a6-4e3cd6e092fb"
      },
      "execution_count": 164,
      "outputs": [
        {
          "output_type": "stream",
          "name": "stdout",
          "text": [
            "[[  4364 371796]\n",
            " [   367 386026]]\n"
          ]
        }
      ]
    },
    {
      "cell_type": "code",
      "source": [
        "es1 = EarlyStopping(monitor='loss', mode='min',patience=5)"
      ],
      "metadata": {
        "id": "NW1HNGjNPjhY"
      },
      "execution_count": 169,
      "outputs": []
    },
    {
      "cell_type": "code",
      "source": [
        "history_cnn = model.fit(X, y, epochs=300, batch_size=30 ,shuffle=False , callbacks=[es1])"
      ],
      "metadata": {
        "colab": {
          "base_uri": "https://localhost:8080/"
        },
        "id": "ug3cGLG2PZR2",
        "outputId": "41266373-d80b-414b-cd3e-bd31cab71f5d"
      },
      "execution_count": null,
      "outputs": [
        {
          "output_type": "stream",
          "name": "stdout",
          "text": [
            "Epoch 1/300\n",
            "16295/25419 [==================>...........] - ETA: 29s - loss: 0.0988 - accuracy: 0.9944"
          ]
        }
      ]
    }
  ]
}